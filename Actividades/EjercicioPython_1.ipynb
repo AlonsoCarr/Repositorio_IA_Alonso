{
  "nbformat": 4,
  "nbformat_minor": 0,
  "metadata": {
    "colab": {
      "provenance": [],
      "authorship_tag": "ABX9TyMsOg4HSxskzXBVgcUN8xbw",
      "include_colab_link": true
    },
    "kernelspec": {
      "name": "python3",
      "display_name": "Python 3"
    },
    "language_info": {
      "name": "python"
    }
  },
  "cells": [
    {
      "cell_type": "markdown",
      "metadata": {
        "id": "view-in-github",
        "colab_type": "text"
      },
      "source": [
        "<a href=\"https://colab.research.google.com/github/AlonsoCarr/Repositorio_IA_Alonso/blob/main/EjercicioPython_1.ipynb\" target=\"_parent\"><img src=\"https://colab.research.google.com/assets/colab-badge.svg\" alt=\"Open In Colab\"/></a>"
      ]
    },
    {
      "cell_type": "code",
      "source": [
        "#Actividad 2: Diseño de algoritmos en Python\n",
        "#Nombre: Alonso Carrizales Mancilla\n",
        "#Matrícula: 2001625\n",
        "#Hora: N4"
      ],
      "metadata": {
        "id": "JRGaGcLmgpdf"
      },
      "execution_count": null,
      "outputs": []
    },
    {
      "cell_type": "code",
      "source": [
        "#Ejercicio 1\n",
        "\n",
        "nombre = input(\"¿Cuál es tu nombre?: \")\n",
        "if nombre in [\"Ana\", \"Juan\", \"Pedro\"]:\n",
        "  print(\"Hola amigo/a\")\n",
        "else:\n",
        "  print(\"Un gusto conocerte\",nombre)"
      ],
      "metadata": {
        "colab": {
          "base_uri": "https://localhost:8080/"
        },
        "id": "nQOnJRyZhSXm",
        "outputId": "363f2f84-4bce-4006-be81-97d611ac5020"
      },
      "execution_count": 5,
      "outputs": [
        {
          "output_type": "stream",
          "name": "stdout",
          "text": [
            "¿Cuál es tu nombre?: Alonso\n",
            "Un gusto conocerte Alonso\n"
          ]
        }
      ]
    },
    {
      "cell_type": "code",
      "source": [
        "#Ejercicio 2\n",
        "\n",
        "def lista2(lista1):\n",
        "  lista2 = lista1[::-1]\n",
        "  return lista2\n",
        "\n",
        "numero = int(input(\"Cantidad de elementos de la lista: \"))\n",
        "lista1 = []\n",
        "for i in range(numero):\n",
        "  elemento = input(\"Introduce el elemento {}: \".format(i + 1))\n",
        "  lista1.append(elemento)\n",
        "\n",
        "lista2 = lista2(lista1)\n",
        "print(\"Lista original:\", lista1)\n",
        "print(\"Lista invertida:\", lista2)"
      ],
      "metadata": {
        "colab": {
          "base_uri": "https://localhost:8080/"
        },
        "id": "o1gGj4t1l4BS",
        "outputId": "ad623580-1fb7-48b5-de4a-9d10096ecc7e"
      },
      "execution_count": 33,
      "outputs": [
        {
          "output_type": "stream",
          "name": "stdout",
          "text": [
            "Cantidad de elementos de la lista: 4\n",
            "Introduce el elemento 1: 1\n",
            "Introduce el elemento 2: 2\n",
            "Introduce el elemento 3: 3\n",
            "Introduce el elemento 4: 4\n",
            "Lista original: ['1', '2', '3', '4']\n",
            "Lista invertida: ['4', '3', '2', '1']\n"
          ]
        }
      ]
    },
    {
      "cell_type": "code",
      "source": [
        "#Ejercicio 3\n",
        "\n",
        "def fibonacci(numero):\n",
        "    if numero <= 1:\n",
        "        return numero\n",
        "    else:\n",
        "        return fibonacci(numero - 1) + fibonacci(numero - 2)\n",
        "while True:\n",
        "  numero = int(input(\"Ingrese la cantidad de numeros de la serie de Fibonacci que desea generar: \"))\n",
        "  if numero >= 40:\n",
        "    print(\"Por razones de optimización limite la cantidad de numeros a menos de 40\")\n",
        "  else:\n",
        "    print(\"Los primeros {} numeros de la serie de Fibonacci son: \" .format(numero))\n",
        "    for i in range(numero):\n",
        "      numero = fibonacci(i)\n",
        "      print(numero, end=\" \")\n",
        "    break"
      ],
      "metadata": {
        "colab": {
          "base_uri": "https://localhost:8080/"
        },
        "id": "CExlkmECmDDw",
        "outputId": "69715d84-ffbc-483e-85c8-1ec5778d4103"
      },
      "execution_count": 34,
      "outputs": [
        {
          "output_type": "stream",
          "name": "stdout",
          "text": [
            "Ingrese la cantidad de numeros de la serie de Fibonacci que desea generar: 10\n",
            "Los primeros 10 numeros de la serie de Fibonacci son: \n",
            "0 1 1 2 3 5 8 13 21 34 "
          ]
        }
      ]
    },
    {
      "cell_type": "code",
      "source": [
        "#Ejercicio 4\n",
        "\n",
        "import random\n",
        "\n",
        "aleatorio = random.randrange(0, 100)\n",
        "\n",
        "print(\"Juego de adivinaza, yo pienso en un número del 1 al 100 y tu lo adivinas\")\n",
        "intentos = 0\n",
        "\n",
        "while True:\n",
        "    intentos += 1\n",
        "    numero = int(input(\"Ingrese su elección: \"))\n",
        "    if numero == aleatorio:\n",
        "        print(\"¡Has encontrado el número en {} intentos!\" .format(intentos))\n",
        "        break\n",
        "    elif numero < aleatorio:\n",
        "        print(\"El número es mayor\")\n",
        "    else:\n",
        "        print(\"El número es menor\")"
      ],
      "metadata": {
        "colab": {
          "base_uri": "https://localhost:8080/"
        },
        "id": "828MnrAQmJB_",
        "outputId": "c016c6b1-7bd5-4413-dd72-d4ec76004d8f"
      },
      "execution_count": 35,
      "outputs": [
        {
          "output_type": "stream",
          "name": "stdout",
          "text": [
            "Juego de adivinaza, yo pienso en un número del 1 al 100 y tu lo adivinas\n",
            "Ingrese su elección: 60\n",
            "El número es menor\n",
            "Ingrese su elección: 40\n",
            "El número es menor\n",
            "Ingrese su elección: 10\n",
            "El número es menor\n",
            "Ingrese su elección: 8\n",
            "El número es menor\n",
            "Ingrese su elección: 2\n",
            "El número es menor\n",
            "Ingrese su elección: 0\n",
            "El número es mayor\n",
            "Ingrese su elección: 1\n",
            "¡Has encontrado el número en 7 intentos!\n"
          ]
        }
      ]
    },
    {
      "cell_type": "code",
      "source": [
        "#Ejercicio 5\n",
        "\n",
        "import math\n",
        "\n",
        "def primo(numero):\n",
        " if numero <= 1:\n",
        "  return False\n",
        " for i in range(2, int(math.sqrt(numero)) + 1):\n",
        "  if numero % i == 0:\n",
        "   return False\n",
        " return True\n",
        "\n",
        "rangoI = int(input(\"Introduce el inicio del rango: \"))\n",
        "rangoF = int(input(\"Introduce el final del rango: \"))\n",
        "\n",
        "print(\"Números primos en el rango {}-{}:\".format(rangoI, rangoF))\n",
        "for numero in range(rangoI, rangoF + 1):\n",
        " if primo(numero):\n",
        "  print(numero, end=\" \")"
      ],
      "metadata": {
        "colab": {
          "base_uri": "https://localhost:8080/"
        },
        "id": "LipqHKEymWQA",
        "outputId": "d75d1af3-ec64-4978-c485-94b0e6852df9"
      },
      "execution_count": 36,
      "outputs": [
        {
          "output_type": "stream",
          "name": "stdout",
          "text": [
            "Introduce el inicio del rango: 1\n",
            "Introduce el final del rango: 20\n",
            "Números primos en el rango 1-20:\n",
            "2 3 5 7 11 13 17 19 "
          ]
        }
      ]
    },
    {
      "cell_type": "code",
      "source": [
        "#Ejercicio 6\n",
        "\n",
        "def suma(A, B):\n",
        "    return A + B\n",
        "\n",
        "def resta(A, B):\n",
        "    return A - B\n",
        "\n",
        "def multiplicacion(A, B):\n",
        "    return A * B\n",
        "\n",
        "def division(A, B):\n",
        "    if B == 0:\n",
        "        return \"Indeterminado\"\n",
        "    return A / B\n",
        "\n",
        "def calculadora():\n",
        "\n",
        "    N1 = int(input(\"Ingrese el primer número: \"))\n",
        "    N2 = int(input(\"Ingrese el segundo número: \"))\n",
        "\n",
        "    print(\"\\nSeleccione la operación que desea realizar:\")\n",
        "    print(\"S para Suma\")\n",
        "    print(\"R para Resta\")\n",
        "    print(\"M para Multiplicación\")\n",
        "    print(\"D para División\")\n",
        "\n",
        "    op = input(\"Ingrese la letra correspondiente a la operación: \")\n",
        "\n",
        "    if op == 'S':\n",
        "                print(\"Resultado de la suma:\", suma(N1, N2))\n",
        "    elif op == 'R':\n",
        "                print(\"Resultado de la resta:\", resta(N1, N2))\n",
        "    elif op == 'M':\n",
        "                print(\"Resultado de la multiplicación:\", multiplicacion(N1, N2))\n",
        "    elif op == 'D':\n",
        "                print(\"Resultado de la división:\", division(N1, N2))\n",
        "    else:\n",
        "            print(\"Reinicie el programa y elija correctamente\")\n",
        "\n",
        "calculadora()"
      ],
      "metadata": {
        "colab": {
          "base_uri": "https://localhost:8080/"
        },
        "id": "cPHTKdnTmeJX",
        "outputId": "6f0bed68-6ff6-4e0b-c434-5c5d43c6baf7"
      },
      "execution_count": 39,
      "outputs": [
        {
          "output_type": "stream",
          "name": "stdout",
          "text": [
            "Ingrese el primer número: 4\n",
            "Ingrese el segundo número: 2\n",
            "\n",
            "Seleccione la operación que desea realizar:\n",
            "S para Suma\n",
            "R para Resta\n",
            "M para Multiplicación\n",
            "D para División\n",
            "Ingrese la letra correspondiente a la operación: S\n",
            "Resultado de la suma: 6\n"
          ]
        }
      ]
    }
  ]
}